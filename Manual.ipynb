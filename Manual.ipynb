{
  "nbformat": 4,
  "nbformat_minor": 0,
  "metadata": {
    "colab": {
      "name": "Manual.ipynb",
      "provenance": [],
      "toc_visible": true
    },
    "kernelspec": {
      "name": "python3",
      "display_name": "Python 3"
    },
    "accelerator": "GPU"
  },
  "cells": [
    {
      "cell_type": "markdown",
      "metadata": {
        "id": "ECNSn6ZHPDQl"
      },
      "source": [
        "[![Open In Colab](https://colab.research.google.com/assets/colab-badge.svg)](https://colab.research.google.com/drive/16Ty84XScfwuE4OIBTbzSTVZRnZ4ljWIo?usp=sharing)"
      ]
    },
    {
      "cell_type": "markdown",
      "metadata": {
        "id": "t92bolT8DK2_"
      },
      "source": [
        "## Carga de Librerias"
      ]
    },
    {
      "cell_type": "code",
      "metadata": {
        "id": "LwHnpUKo9vS7"
      },
      "source": [
        "import os\r\n",
        "import torch\r\n",
        "from PIL import Image \r\n",
        "import matplotlib.pyplot as plt\r\n",
        "import numpy as np\r\n",
        "import gc\r\n",
        "from torch.utils.data import Dataset, DataLoader\r\n",
        "from torchvision import transforms, datasets, models\r\n",
        "import torchvision.utils\r\n",
        "from collections import defaultdict\r\n",
        "import torch.nn.functional as F"
      ],
      "execution_count": null,
      "outputs": []
    },
    {
      "cell_type": "code",
      "metadata": {
        "id": "rOUeGCZxHVe3"
      },
      "source": [
        "from utils import *"
      ],
      "execution_count": null,
      "outputs": []
    },
    {
      "cell_type": "markdown",
      "metadata": {
        "id": "imUwVTTJDN3T"
      },
      "source": [
        "### Verificación GPU"
      ]
    },
    {
      "cell_type": "code",
      "metadata": {
        "colab": {
          "base_uri": "https://localhost:8080/",
          "height": 214
        },
        "id": "bXtBvtjk_RIi",
        "outputId": "d80746af-9609-440c-ff0f-6676741d5a61"
      },
      "source": [
        "if not torch.cuda.is_available():\r\n",
        "  raise Exception(\"GPU not available. CPU training will be too slow.\")\r\n",
        "\r\n",
        "print(\"device name:\", torch.cuda.get_device_name(0))"
      ],
      "execution_count": null,
      "outputs": [
        {
          "output_type": "error",
          "ename": "Exception",
          "evalue": "ignored",
          "traceback": [
            "\u001b[0;31m---------------------------------------------------------------------------\u001b[0m",
            "\u001b[0;31mException\u001b[0m                                 Traceback (most recent call last)",
            "\u001b[0;32m<ipython-input-4-be15b0ad873e>\u001b[0m in \u001b[0;36m<module>\u001b[0;34m()\u001b[0m\n\u001b[1;32m      1\u001b[0m \u001b[0;32mif\u001b[0m \u001b[0;32mnot\u001b[0m \u001b[0mtorch\u001b[0m\u001b[0;34m.\u001b[0m\u001b[0mcuda\u001b[0m\u001b[0;34m.\u001b[0m\u001b[0mis_available\u001b[0m\u001b[0;34m(\u001b[0m\u001b[0;34m)\u001b[0m\u001b[0;34m:\u001b[0m\u001b[0;34m\u001b[0m\u001b[0;34m\u001b[0m\u001b[0m\n\u001b[0;32m----> 2\u001b[0;31m   \u001b[0;32mraise\u001b[0m \u001b[0mException\u001b[0m\u001b[0;34m(\u001b[0m\u001b[0;34m\"GPU not available. CPU training will be too slow.\"\u001b[0m\u001b[0;34m)\u001b[0m\u001b[0;34m\u001b[0m\u001b[0;34m\u001b[0m\u001b[0m\n\u001b[0m\u001b[1;32m      3\u001b[0m \u001b[0;34m\u001b[0m\u001b[0m\n\u001b[1;32m      4\u001b[0m \u001b[0mprint\u001b[0m\u001b[0;34m(\u001b[0m\u001b[0;34m\"device name:\"\u001b[0m\u001b[0;34m,\u001b[0m \u001b[0mtorch\u001b[0m\u001b[0;34m.\u001b[0m\u001b[0mcuda\u001b[0m\u001b[0;34m.\u001b[0m\u001b[0mget_device_name\u001b[0m\u001b[0;34m(\u001b[0m\u001b[0;36m0\u001b[0m\u001b[0;34m)\u001b[0m\u001b[0;34m)\u001b[0m\u001b[0;34m\u001b[0m\u001b[0;34m\u001b[0m\u001b[0m\n",
            "\u001b[0;31mException\u001b[0m: GPU not available. CPU training will be too slow."
          ]
        }
      ]
    },
    {
      "cell_type": "markdown",
      "metadata": {
        "id": "yUkizk-1D8Ay"
      },
      "source": [
        "## Carga Datos"
      ]
    },
    {
      "cell_type": "code",
      "metadata": {
        "id": "b39t5BR2D9rH"
      },
      "source": [
        "pathTrain = \"\"\r\n",
        "files = [os.path.splitext(f)[0] for f in os.listdir(pathTrain) if f.endswith('.jpg')]# + [f for f in os.listdir(path) if f.endswith('.png')]"
      ],
      "execution_count": null,
      "outputs": []
    },
    {
      "cell_type": "markdown",
      "metadata": {
        "id": "ZRPkx7FEDQcG"
      },
      "source": [
        "## Carga Métodos "
      ]
    },
    {
      "cell_type": "code",
      "metadata": {
        "colab": {
          "base_uri": "https://localhost:8080/",
          "height": 350
        },
        "id": "PHvk74qWCFJD",
        "outputId": "f64a76c7-5619-419d-ad9b-1b2d9e046039"
      },
      "source": [
        "class SimDataset(Dataset):\r\n",
        "  def __init__(self, phase, transform=None):\r\n",
        "    if phase == 'train':\r\n",
        "      self.input_images = np.array(ImageData(files[:40], pathTrain))\r\n",
        "      self.target_masks = np.array(maskData(files[:40], pathMask))\r\n",
        "    if phase == 'val':\r\n",
        "      self.input_images = np.array(ImageData(files[40:50], pathTrain))\r\n",
        "      self.target_masks = np.array(maskData(files[40:50], pathMask))\r\n",
        "    if phase == 'test':\r\n",
        "      self.input_images = np.array(ImageData(files[50:60], pathTrain))\r\n",
        "      self.target_masks = np.array(maskData(files[50:60], pathMask))\r\n",
        "    self.transform = transform\r\n",
        "\r\n",
        "  def __len__(self):\r\n",
        "    return len(self.input_images)\r\n",
        "\r\n",
        "  def __getitem__(self, idx):\r\n",
        "    image = self.input_images[idx]\r\n",
        "    mask = self.target_masks[idx]\r\n",
        "    if self.transform:\r\n",
        "      image = self.transform(image)\r\n",
        "\r\n",
        "    return [image, mask]\r\n",
        "\r\n",
        "# use the same transformations for train/val in this example\r\n",
        "trans = transforms.Compose([\r\n",
        "  transforms.ToTensor(),\r\n",
        "  transforms.Normalize([0.485, 0.456, 0.406], [0.229, 0.224, 0.225]) # imagenet\r\n",
        "])\r\n",
        "\r\n",
        "train_set = SimDataset('train', transform = trans)\r\n",
        "val_set = SimDataset('val', transform = trans)\r\n",
        "\r\n",
        "batch_size = 5\r\n",
        "\r\n",
        "dataloaders = {\r\n",
        "  'train': DataLoader(train_set, batch_size=batch_size, shuffle=True, num_workers=0),\r\n",
        "  'val': DataLoader(val_set, batch_size=batch_size, shuffle=True, num_workers=0)\r\n",
        "}"
      ],
      "execution_count": null,
      "outputs": [
        {
          "output_type": "error",
          "ename": "NameError",
          "evalue": "ignored",
          "traceback": [
            "\u001b[0;31m---------------------------------------------------------------------------\u001b[0m",
            "\u001b[0;31mNameError\u001b[0m                                 Traceback (most recent call last)",
            "\u001b[0;32m<ipython-input-13-1a5a428cb7c6>\u001b[0m in \u001b[0;36m<module>\u001b[0;34m()\u001b[0m\n\u001b[1;32m     29\u001b[0m ])\n\u001b[1;32m     30\u001b[0m \u001b[0;34m\u001b[0m\u001b[0m\n\u001b[0;32m---> 31\u001b[0;31m \u001b[0mtrain_set\u001b[0m \u001b[0;34m=\u001b[0m \u001b[0mSimDataset\u001b[0m\u001b[0;34m(\u001b[0m\u001b[0;34m'train'\u001b[0m\u001b[0;34m,\u001b[0m \u001b[0mtransform\u001b[0m \u001b[0;34m=\u001b[0m \u001b[0mtrans\u001b[0m\u001b[0;34m)\u001b[0m\u001b[0;34m\u001b[0m\u001b[0;34m\u001b[0m\u001b[0m\n\u001b[0m\u001b[1;32m     32\u001b[0m \u001b[0mval_set\u001b[0m \u001b[0;34m=\u001b[0m \u001b[0mSimDataset\u001b[0m\u001b[0;34m(\u001b[0m\u001b[0;34m'val'\u001b[0m\u001b[0;34m,\u001b[0m \u001b[0mtransform\u001b[0m \u001b[0;34m=\u001b[0m \u001b[0mtrans\u001b[0m\u001b[0;34m)\u001b[0m\u001b[0;34m\u001b[0m\u001b[0;34m\u001b[0m\u001b[0m\n\u001b[1;32m     33\u001b[0m \u001b[0;34m\u001b[0m\u001b[0m\n",
            "\u001b[0;32m<ipython-input-13-1a5a428cb7c6>\u001b[0m in \u001b[0;36m__init__\u001b[0;34m(self, phase, transform)\u001b[0m\n\u001b[1;32m      2\u001b[0m   \u001b[0;32mdef\u001b[0m \u001b[0m__init__\u001b[0m\u001b[0;34m(\u001b[0m\u001b[0mself\u001b[0m\u001b[0;34m,\u001b[0m \u001b[0mphase\u001b[0m\u001b[0;34m,\u001b[0m \u001b[0mtransform\u001b[0m\u001b[0;34m=\u001b[0m\u001b[0;32mNone\u001b[0m\u001b[0;34m)\u001b[0m\u001b[0;34m:\u001b[0m\u001b[0;34m\u001b[0m\u001b[0;34m\u001b[0m\u001b[0m\n\u001b[1;32m      3\u001b[0m     \u001b[0;32mif\u001b[0m \u001b[0mphase\u001b[0m \u001b[0;34m==\u001b[0m \u001b[0;34m'train'\u001b[0m\u001b[0;34m:\u001b[0m\u001b[0;34m\u001b[0m\u001b[0;34m\u001b[0m\u001b[0m\n\u001b[0;32m----> 4\u001b[0;31m       \u001b[0mself\u001b[0m\u001b[0;34m.\u001b[0m\u001b[0minput_images\u001b[0m \u001b[0;34m=\u001b[0m \u001b[0mnp\u001b[0m\u001b[0;34m.\u001b[0m\u001b[0marray\u001b[0m\u001b[0;34m(\u001b[0m\u001b[0mImageData\u001b[0m\u001b[0;34m(\u001b[0m\u001b[0mfiles\u001b[0m\u001b[0;34m[\u001b[0m\u001b[0;34m:\u001b[0m\u001b[0;36m40\u001b[0m\u001b[0;34m]\u001b[0m\u001b[0;34m,\u001b[0m \u001b[0mpathTrain\u001b[0m\u001b[0;34m)\u001b[0m\u001b[0;34m)\u001b[0m\u001b[0;34m\u001b[0m\u001b[0;34m\u001b[0m\u001b[0m\n\u001b[0m\u001b[1;32m      5\u001b[0m       \u001b[0mself\u001b[0m\u001b[0;34m.\u001b[0m\u001b[0mtarget_masks\u001b[0m \u001b[0;34m=\u001b[0m \u001b[0mnp\u001b[0m\u001b[0;34m.\u001b[0m\u001b[0marray\u001b[0m\u001b[0;34m(\u001b[0m\u001b[0mmaskData\u001b[0m\u001b[0;34m(\u001b[0m\u001b[0mfiles\u001b[0m\u001b[0;34m[\u001b[0m\u001b[0;34m:\u001b[0m\u001b[0;36m40\u001b[0m\u001b[0;34m]\u001b[0m\u001b[0;34m,\u001b[0m \u001b[0mpathMask\u001b[0m\u001b[0;34m)\u001b[0m\u001b[0;34m)\u001b[0m\u001b[0;34m\u001b[0m\u001b[0;34m\u001b[0m\u001b[0m\n\u001b[1;32m      6\u001b[0m     \u001b[0;32mif\u001b[0m \u001b[0mphase\u001b[0m \u001b[0;34m==\u001b[0m \u001b[0;34m'val'\u001b[0m\u001b[0;34m:\u001b[0m\u001b[0;34m\u001b[0m\u001b[0;34m\u001b[0m\u001b[0m\n",
            "\u001b[0;31mNameError\u001b[0m: name 'files' is not defined"
          ]
        }
      ]
    },
    {
      "cell_type": "markdown",
      "metadata": {
        "id": "OAwSRynGDU7f"
      },
      "source": [
        "## Carga Modelo y Pesos"
      ]
    },
    {
      "cell_type": "code",
      "metadata": {
        "id": "_udO54vMCzw9"
      },
      "source": [
        "modelpath = \"\"\r\n",
        "weights = \"unet.hdf5\"\r\n",
        "\r\n",
        "if os.path.exists(modelpath):\r\n",
        "    model = torch.load(modelpath)\r\n",
        "    print(\"Model Loaded!!\")\r\n",
        "    lr = 1e-4\r\n",
        "\r\n",
        "if os.path.exists(weights):\r\n",
        "    model.load_weights(weights)\r\n",
        "    print(\"Weights Loaded!!\")\r\n",
        "    lr = 1e-4\r\n",
        "\r\n",
        "model.eval()"
      ],
      "execution_count": null,
      "outputs": []
    },
    {
      "cell_type": "markdown",
      "metadata": {
        "id": "e7xtG5dREXpw"
      },
      "source": [
        "## Predicción"
      ]
    },
    {
      "cell_type": "code",
      "metadata": {
        "id": "KO_IztNTCRlL"
      },
      "source": [
        "# Get a batch of training data\r\n",
        "for i_batch, sample_batched in enumerate(dataloaders['train']):\r\n",
        "  inputs, masks = sample_batched\r\n",
        "  print(i_batch, inputs.shape, masks.shape)\r\n",
        "  plt.imshow(reverse_transform(inputs[2]))"
      ],
      "execution_count": null,
      "outputs": []
    },
    {
      "cell_type": "code",
      "metadata": {
        "id": "WReKJmEyCpOR"
      },
      "source": [
        "# Create a new simulation dataset for testing\r\n",
        "test_dataset = SimDataset('test', transform = trans)\r\n",
        "test_loader = DataLoader(test_dataset, batch_size=5, shuffle=False, num_workers=0)\r\n",
        "\r\n",
        "# Get the first batch\r\n",
        "inputs, labels = next(iter(test_loader))\r\n",
        "inputs = inputs.to(device).float()\r\n",
        "labels = labels.to(device)\r\n",
        "\r\n",
        "# Predict\r\n",
        "pred = model(inputs)\r\n",
        "# The loss functions include the sigmoid function.\r\n",
        "pred = torch.sigmoid(pred)\r\n",
        "pred = pred.data.cpu().numpy()\r\n",
        "\r\n",
        "# Change channel-order and make 3 channels for matplot\r\n",
        "input_images_rgb = [x.transpose([1,2,0]) for x in inputs.cpu().numpy()]\r\n",
        "\r\n",
        "# Map each channel (i.e. class) to each color\r\n",
        "target_masks_rgb = [x.transpose([1,2,0]) for x in labels.cpu().numpy()]\r\n",
        "pred_rgb = [x.transpose([1,2,0]) for x in pred]"
      ],
      "execution_count": null,
      "outputs": []
    },
    {
      "cell_type": "code",
      "metadata": {
        "id": "vIscKBW-CrwR"
      },
      "source": [
        "confidence = 0.90\r\n",
        "plot_side_by_side([input_images_rgb, \r\n",
        "                   convert_mask(np.array(target_masks_rgb).transpose([0,3,1,2])),\r\n",
        "                   convert_result(np.array(pred_rgb).transpose([0,3,1,2]),confidence)])"
      ],
      "execution_count": null,
      "outputs": []
    }
  ]
}